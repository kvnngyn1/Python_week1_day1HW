{
 "cells": [
  {
   "cell_type": "code",
   "execution_count": 62,
   "id": "5a850752",
   "metadata": {},
   "outputs": [],
   "source": [
    "import time"
   ]
  },
  {
   "cell_type": "code",
   "execution_count": 12,
   "id": "c0e1bace",
   "metadata": {},
   "outputs": [],
   "source": [
    "# 1. Write a function to print \"hello_USERNAME!\" \n",
    "\n",
    "def hello_name(username):\n",
    "    print('hello_' + username.upper() + '!')"
   ]
  },
  {
   "cell_type": "code",
   "execution_count": 13,
   "id": "25efd079",
   "metadata": {},
   "outputs": [
    {
     "name": "stdout",
     "output_type": "stream",
     "text": [
      "hello_HAWKINSIDE_OUT!\n"
     ]
    }
   ],
   "source": [
    "hello_name('hawkinside_out')"
   ]
  },
  {
   "cell_type": "code",
   "execution_count": 2,
   "id": "2a6cd67c",
   "metadata": {},
   "outputs": [],
   "source": [
    "# 2. Print first 100 odd numbers in Python."
   ]
  },
  {
   "cell_type": "code",
   "execution_count": 63,
   "id": "bc72fe19",
   "metadata": {
    "scrolled": true
   },
   "outputs": [
    {
     "name": "stdout",
     "output_type": "stream",
     "text": [
      "1: 1\n",
      "2: 3\n",
      "3: 5\n",
      "4: 7\n",
      "5: 9\n",
      "6: 11\n",
      "7: 13\n",
      "8: 15\n",
      "9: 17\n",
      "10: 19\n",
      "11: 21\n",
      "12: 23\n",
      "13: 25\n",
      "14: 27\n",
      "15: 29\n",
      "16: 31\n",
      "17: 33\n",
      "18: 35\n",
      "19: 37\n",
      "20: 39\n",
      "21: 41\n",
      "22: 43\n",
      "23: 45\n",
      "24: 47\n",
      "25: 49\n",
      "26: 51\n",
      "27: 53\n",
      "28: 55\n",
      "29: 57\n",
      "30: 59\n",
      "31: 61\n",
      "32: 63\n",
      "33: 65\n",
      "34: 67\n",
      "35: 69\n",
      "36: 71\n",
      "37: 73\n",
      "38: 75\n",
      "39: 77\n",
      "40: 79\n",
      "41: 81\n",
      "42: 83\n",
      "43: 85\n",
      "44: 87\n",
      "45: 89\n",
      "46: 91\n",
      "47: 93\n",
      "48: 95\n",
      "49: 97\n",
      "50: 99\n",
      "51: 101\n",
      "52: 103\n",
      "53: 105\n",
      "54: 107\n",
      "55: 109\n",
      "56: 111\n",
      "57: 113\n",
      "58: 115\n",
      "59: 117\n",
      "60: 119\n",
      "61: 121\n",
      "62: 123\n",
      "63: 125\n",
      "64: 127\n",
      "65: 129\n",
      "66: 131\n",
      "67: 133\n",
      "68: 135\n",
      "69: 137\n",
      "70: 139\n",
      "71: 141\n",
      "72: 143\n",
      "73: 145\n",
      "74: 147\n",
      "75: 149\n",
      "76: 151\n",
      "77: 153\n",
      "78: 155\n",
      "79: 157\n",
      "80: 159\n",
      "81: 161\n",
      "82: 163\n",
      "83: 165\n",
      "84: 167\n",
      "85: 169\n",
      "86: 171\n",
      "87: 173\n",
      "88: 175\n",
      "89: 177\n",
      "90: 179\n",
      "91: 181\n",
      "92: 183\n",
      "93: 185\n",
      "94: 187\n",
      "95: 189\n",
      "96: 191\n",
      "97: 193\n",
      "98: 195\n",
      "99: 197\n",
      "100: 199\n",
      "0.03811001777648926\n"
     ]
    }
   ],
   "source": [
    "def one_to_hundred():\n",
    "    start_time = time.time()\n",
    "    \n",
    "    start = 0\n",
    "    for num in range(200):\n",
    "        if num%2!=0:\n",
    "            start+=1\n",
    "            print(f'{start}: {num}')\n",
    "    print(time.time() - start_time)\n",
    "            \n",
    "one_to_hundred()"
   ]
  },
  {
   "cell_type": "code",
   "execution_count": 55,
   "id": "338e70dc",
   "metadata": {},
   "outputs": [],
   "source": [
    "# 3. Please write a Python function, max_num_in_list to return the max number of a given list. \n",
    "# The first line of the code has been defined as below.\n",
    "my_list = [12, 34, 65, 34, 1345, 78, 90, 34, 66, 23, 576]"
   ]
  },
  {
   "cell_type": "code",
   "execution_count": 43,
   "id": "2ca3966e",
   "metadata": {
    "scrolled": true
   },
   "outputs": [
    {
     "data": {
      "text/plain": [
       "1345"
      ]
     },
     "execution_count": 43,
     "metadata": {},
     "output_type": "execute_result"
    }
   ],
   "source": [
    "max(my_list)\n",
    "\n",
    "[1, 2, 3, 4]"
   ]
  },
  {
   "cell_type": "code",
   "execution_count": 46,
   "id": "c89fcb6f",
   "metadata": {},
   "outputs": [],
   "source": [
    "def bubble_sort(a_list):\n",
    "    for i in range(len(a_list) - 1):\n",
    "        for j in range(len(a_list) - i - 1):\n",
    "            if a_list[j] > a_list[j+1]:\n",
    "                a_list[j], a_list[j+1] = a_list[j+1], a_list[j]\n",
    "    return a_list[-1]"
   ]
  },
  {
   "cell_type": "code",
   "execution_count": 47,
   "id": "38247c93",
   "metadata": {},
   "outputs": [
    {
     "data": {
      "text/plain": [
       "1345"
      ]
     },
     "execution_count": 47,
     "metadata": {},
     "output_type": "execute_result"
    }
   ],
   "source": [
    "bubble_sort(my_list)"
   ]
  },
  {
   "cell_type": "code",
   "execution_count": 4,
   "id": "ff486394",
   "metadata": {},
   "outputs": [],
   "source": [
    "# 4. Write a function to return if the given year is a leap year. \n",
    "# A leap year is divisible by 4, but not divisible by 100, unless it is also divisible by 400.\n",
    "# The return should be boolean Type (true/false)."
   ]
  },
  {
   "cell_type": "code",
   "execution_count": 52,
   "id": "7164bd74",
   "metadata": {},
   "outputs": [
    {
     "name": "stdout",
     "output_type": "stream",
     "text": [
      "1: 2000\n",
      "2: 2004\n",
      "3: 2008\n",
      "4: 2012\n",
      "5: 2016\n",
      "6: 2020\n",
      "7: 2024\n",
      "8: 2028\n",
      "9: 2032\n",
      "10: 2036\n",
      "11: 2040\n",
      "12: 2044\n",
      "13: 2048\n",
      "14: 2052\n",
      "15: 2056\n",
      "16: 2060\n",
      "17: 2064\n",
      "18: 2068\n",
      "19: 2072\n",
      "20: 2076\n",
      "21: 2080\n",
      "22: 2084\n",
      "23: 2088\n",
      "24: 2092\n",
      "25: 2096\n",
      "26: 2104\n",
      "27: 2108\n",
      "28: 2112\n",
      "29: 2116\n",
      "30: 2120\n",
      "31: 2124\n",
      "32: 2128\n",
      "33: 2132\n",
      "34: 2136\n",
      "35: 2140\n",
      "36: 2144\n",
      "37: 2148\n",
      "38: 2152\n",
      "39: 2156\n",
      "40: 2160\n",
      "41: 2164\n",
      "42: 2168\n",
      "43: 2172\n",
      "44: 2176\n",
      "45: 2180\n",
      "46: 2184\n",
      "47: 2188\n",
      "48: 2192\n",
      "49: 2196\n",
      "50: 2204\n",
      "51: 2208\n",
      "52: 2212\n",
      "53: 2216\n",
      "54: 2220\n",
      "55: 2224\n",
      "56: 2228\n",
      "57: 2232\n",
      "58: 2236\n",
      "59: 2240\n",
      "60: 2244\n",
      "61: 2248\n",
      "62: 2252\n",
      "63: 2256\n",
      "64: 2260\n",
      "65: 2264\n",
      "66: 2268\n",
      "67: 2272\n",
      "68: 2276\n",
      "69: 2280\n",
      "70: 2284\n",
      "71: 2288\n",
      "72: 2292\n",
      "73: 2296\n",
      "74: 2304\n",
      "75: 2308\n",
      "76: 2312\n",
      "77: 2316\n",
      "78: 2320\n",
      "79: 2324\n",
      "80: 2328\n",
      "81: 2332\n",
      "82: 2336\n",
      "83: 2340\n",
      "84: 2344\n",
      "85: 2348\n",
      "86: 2352\n",
      "87: 2356\n",
      "88: 2360\n",
      "89: 2364\n",
      "90: 2368\n",
      "91: 2372\n",
      "92: 2376\n",
      "93: 2380\n",
      "94: 2384\n",
      "95: 2388\n",
      "96: 2392\n",
      "97: 2396\n",
      "98: 2400\n",
      "99: 2404\n",
      "100: 2408\n",
      "101: 2412\n",
      "102: 2416\n",
      "103: 2420\n",
      "104: 2424\n",
      "105: 2428\n",
      "106: 2432\n",
      "107: 2436\n",
      "108: 2440\n",
      "109: 2444\n",
      "110: 2448\n",
      "111: 2452\n",
      "112: 2456\n",
      "113: 2460\n",
      "114: 2464\n",
      "115: 2468\n",
      "116: 2472\n",
      "117: 2476\n",
      "118: 2480\n",
      "119: 2484\n",
      "120: 2488\n",
      "121: 2492\n",
      "122: 2496\n",
      "123: 2504\n",
      "124: 2508\n",
      "125: 2512\n",
      "126: 2516\n",
      "127: 2520\n",
      "128: 2524\n",
      "129: 2528\n",
      "130: 2532\n",
      "131: 2536\n",
      "132: 2540\n",
      "133: 2544\n",
      "134: 2548\n",
      "135: 2552\n",
      "136: 2556\n",
      "137: 2560\n",
      "138: 2564\n",
      "139: 2568\n",
      "140: 2572\n",
      "141: 2576\n",
      "142: 2580\n",
      "143: 2584\n",
      "144: 2588\n",
      "145: 2592\n",
      "146: 2596\n",
      "147: 2604\n",
      "148: 2608\n",
      "149: 2612\n",
      "150: 2616\n",
      "151: 2620\n",
      "152: 2624\n",
      "153: 2628\n",
      "154: 2632\n",
      "155: 2636\n",
      "156: 2640\n",
      "157: 2644\n",
      "158: 2648\n",
      "159: 2652\n",
      "160: 2656\n",
      "161: 2660\n",
      "162: 2664\n",
      "163: 2668\n",
      "164: 2672\n",
      "165: 2676\n",
      "166: 2680\n",
      "167: 2684\n",
      "168: 2688\n",
      "169: 2692\n",
      "170: 2696\n",
      "171: 2704\n",
      "172: 2708\n",
      "173: 2712\n",
      "174: 2716\n",
      "175: 2720\n",
      "176: 2724\n",
      "177: 2728\n",
      "178: 2732\n",
      "179: 2736\n",
      "180: 2740\n",
      "181: 2744\n",
      "182: 2748\n",
      "183: 2752\n",
      "184: 2756\n",
      "185: 2760\n",
      "186: 2764\n",
      "187: 2768\n",
      "188: 2772\n",
      "189: 2776\n",
      "190: 2780\n",
      "191: 2784\n",
      "192: 2788\n",
      "193: 2792\n",
      "194: 2796\n",
      "195: 2800\n",
      "196: 2804\n",
      "197: 2808\n",
      "198: 2812\n",
      "199: 2816\n",
      "200: 2820\n",
      "201: 2824\n",
      "202: 2828\n",
      "203: 2832\n",
      "204: 2836\n",
      "205: 2840\n",
      "206: 2844\n",
      "207: 2848\n",
      "208: 2852\n",
      "209: 2856\n",
      "210: 2860\n",
      "211: 2864\n",
      "212: 2868\n",
      "213: 2872\n",
      "214: 2876\n",
      "215: 2880\n",
      "216: 2884\n",
      "217: 2888\n",
      "218: 2892\n",
      "219: 2896\n",
      "220: 2904\n",
      "221: 2908\n",
      "222: 2912\n",
      "223: 2916\n",
      "224: 2920\n",
      "225: 2924\n",
      "226: 2928\n",
      "227: 2932\n",
      "228: 2936\n",
      "229: 2940\n",
      "230: 2944\n",
      "231: 2948\n",
      "232: 2952\n",
      "233: 2956\n",
      "234: 2960\n",
      "235: 2964\n",
      "236: 2968\n",
      "237: 2972\n",
      "238: 2976\n",
      "239: 2980\n",
      "240: 2984\n",
      "241: 2988\n",
      "242: 2992\n",
      "243: 2996\n"
     ]
    }
   ],
   "source": [
    "def get_leap_years():\n",
    "    current_iteration = 1\n",
    "    year = 2000\n",
    "    \n",
    "    while year < 3001:\n",
    "        if year%4==0 and year%100!=0 or year%400==0:\n",
    "            print(f'{current_iteration}: {year}')\n",
    "            current_iteration += 1\n",
    "        year +=1\n",
    "    \n",
    "get_leap_years()"
   ]
  },
  {
   "cell_type": "code",
   "execution_count": 5,
   "id": "dff27b9a",
   "metadata": {},
   "outputs": [],
   "source": [
    "# 5. Write a function to check to see if all numbers in list are consecutive numbers. \n",
    "# For example, [2,3,4,5,6,7] are consecutive numbers, but [1,2,4,5] are not consecutive numbers. \n",
    "# The return should be boolean Type."
   ]
  },
  {
   "cell_type": "code",
   "execution_count": 59,
   "id": "82655bcb",
   "metadata": {},
   "outputs": [],
   "source": [
    "def is_consecutive(a_list):\n",
    "    for i in range(len(a_list) - 1):\n",
    "        if a_list[i] + 1 != a_list[i+1]:\n",
    "            return False\n",
    "    return True"
   ]
  },
  {
   "cell_type": "code",
   "execution_count": 60,
   "id": "2f741188",
   "metadata": {},
   "outputs": [
    {
     "data": {
      "text/plain": [
       "False"
      ]
     },
     "execution_count": 60,
     "metadata": {},
     "output_type": "execute_result"
    }
   ],
   "source": [
    "is_consecutive(my_list)"
   ]
  },
  {
   "cell_type": "code",
   "execution_count": 64,
   "id": "377022dc",
   "metadata": {},
   "outputs": [
    {
     "data": {
      "text/plain": [
       "True"
      ]
     },
     "execution_count": 64,
     "metadata": {},
     "output_type": "execute_result"
    }
   ],
   "source": [
    "is_consecutive([-8, -7, -6, -5])"
   ]
  }
 ],
 "metadata": {
  "kernelspec": {
   "display_name": "Python 3",
   "language": "python",
   "name": "python3"
  },
  "language_info": {
   "codemirror_mode": {
    "name": "ipython",
    "version": 3
   },
   "file_extension": ".py",
   "mimetype": "text/x-python",
   "name": "python",
   "nbconvert_exporter": "python",
   "pygments_lexer": "ipython3",
   "version": "3.9.6"
  }
 },
 "nbformat": 4,
 "nbformat_minor": 5
}
